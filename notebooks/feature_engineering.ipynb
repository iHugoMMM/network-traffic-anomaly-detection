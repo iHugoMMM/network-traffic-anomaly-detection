{
 "cells": [
  {
   "cell_type": "code",
   "execution_count": 1,
   "metadata": {},
   "outputs": [],
   "source": [
    "import sys\n",
    "import os\n",
    "sys.path.append(os.path.abspath('..'))\n",
    "import pandas as pd\n",
    "import matplotlib.pyplot as plt\n",
    "import seaborn as sns\n",
    "from src.data_preprocessing import *\n",
    "from src.feature_engineering import *"
   ]
  },
  {
   "cell_type": "code",
   "execution_count": 2,
   "metadata": {},
   "outputs": [],
   "source": [
    "df = pd.read_csv('../data/processed/cleaned_data_30min.csv', index_col=0, parse_dates=True)"
   ]
  },
  {
   "cell_type": "code",
   "execution_count": 3,
   "metadata": {},
   "outputs": [],
   "source": [
    "# df.head()"
   ]
  },
  {
   "cell_type": "code",
   "execution_count": 4,
   "metadata": {},
   "outputs": [],
   "source": [
    "# 2. Apply time-based features\n",
    "df_features = add_time_features(df)"
   ]
  },
  {
   "cell_type": "code",
   "execution_count": 5,
   "metadata": {},
   "outputs": [],
   "source": [
    "# 3. Add rolling features\n",
    "df_features = add_rolling_features(df_features, window='24h')"
   ]
  },
  {
   "cell_type": "code",
   "execution_count": 6,
   "metadata": {},
   "outputs": [],
   "source": [
    "# 4. Add daily aggregates\n",
    "df_features = add_daily_aggregates(df_features)"
   ]
  },
  {
   "cell_type": "code",
   "execution_count": 7,
   "metadata": {},
   "outputs": [],
   "source": [
    "# 5. Inspect the new columns\n",
    "# print(df_features.head())"
   ]
  },
  {
   "cell_type": "code",
   "execution_count": 8,
   "metadata": {},
   "outputs": [
    {
     "name": "stdout",
     "output_type": "stream",
     "text": [
      "                       MT_001  MT_001_rollmean  MT_001_rollstd  \\\n",
      "MT_001               1.000000         0.826626        0.525279   \n",
      "MT_001_rollmean      0.826626         1.000000        0.636152   \n",
      "MT_001_rollstd       0.525279         0.636152        1.000000   \n",
      "MT_001_daily_cumsum  0.664534         0.758292        0.458382   \n",
      "\n",
      "                     MT_001_daily_cumsum  \n",
      "MT_001                          0.664534  \n",
      "MT_001_rollmean                 0.758292  \n",
      "MT_001_rollstd                  0.458382  \n",
      "MT_001_daily_cumsum             1.000000  \n"
     ]
    }
   ],
   "source": [
    "# 6. Quick data exploration\n",
    "#    For example, correlation of the newly added columns with the original consumption\n",
    "meter_example = 'MT_001'  # pick a meter\n",
    "new_cols = [f'{meter_example}_rollmean', f'{meter_example}_rollstd', f'{meter_example}_daily_cumsum']\n",
    "print(df_features[[meter_example] + new_cols].corr())"
   ]
  },
  {
   "cell_type": "code",
   "execution_count": 9,
   "metadata": {},
   "outputs": [],
   "source": [
    "# 7. Save the feature-enhanced DataFrame\n",
    "df_features.to_csv('../data/processed/feature_engineered_30min.csv')"
   ]
  }
 ],
 "metadata": {
  "kernelspec": {
   "display_name": "venv_anomaly_project",
   "language": "python",
   "name": "python3"
  },
  "language_info": {
   "codemirror_mode": {
    "name": "ipython",
    "version": 3
   },
   "file_extension": ".py",
   "mimetype": "text/x-python",
   "name": "python",
   "nbconvert_exporter": "python",
   "pygments_lexer": "ipython3",
   "version": "3.12.2"
  }
 },
 "nbformat": 4,
 "nbformat_minor": 2
}
